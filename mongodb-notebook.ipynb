{
 "cells": [
  {
   "cell_type": "markdown",
   "metadata": {},
   "source": [
    "# CISC 525 Summer 2020 - Final Exam\n",
    "You may want to revisit lecture from Mondule 9 on NoSQL database.\n",
    "I provided instructions on installing necessary software package\n",
    "to work with MongoDB using Python 3.\n"
   ]
  },
  {
   "cell_type": "code",
   "execution_count": 2,
   "metadata": {},
   "outputs": [],
   "source": [
    "from pymongo import MongoClient\n",
    "#include pprint for readabillity of the \n",
    "from pprint import pprint  # pretty print\n",
    "from random import randint\n",
    "\n",
    "#change the MongoClient connection string to your MongoDB database instance\n",
    "client = MongoClient(port=27017)\n",
    "airline = client.airline"
   ]
  },
  {
   "cell_type": "markdown",
   "metadata": {},
   "source": [
    "## Importing airline performance data\n",
    "You **`must`** fix the content of line `1253` in the `airports.csv` file\n",
    "from: \n",
    "\n",
    "```\n",
    "\"DBN\",\"W. H. \\\"Bud\\\" Barron \",\"Dublin\",\"GA\",\"USA\",32.56445806,-82.98525556\n",
    "```\n",
    "\n",
    "to \n",
    "\n",
    "```\n",
    "\"DBN\",\"W. H. Bud Barron \",\"Dublin\",\"GA\",\"USA\",32.56445806,-82.98525556\n",
    "```\n",
    "\n",
    "Open a terminal from your VM. Run the follow commands to import\n",
    "airline performance data into your mongodb database.\n",
    "\n",
    "```bash\n",
    "cd ~/cisc_525/cisc-525-util/data/airline\n",
    "mongoimport --db airline --collection planes --type csv --headerline --file ./plane-data.csv\n",
    "mongoimport --db airline --collection carriers --type csv --headerline --file ./carriers.csv\n",
    "mongoimport --db airline --collection airports --type csv --headerline --file ./airports.csv\n",
    "```\n",
    "\n",
    "You should see the output as follows:\n",
    "\n",
    "```shelscript\n",
    "kiet@student-VirtualBox:~/cisc_525/cisc-525-util/data/airline$ mongoimport --db airline --collection planes --type csv --headerline --file ./plane-data.csv\n",
    "2020-04-11T15:13:03.821-0400\tconnected to: localhost\n",
    "2020-04-11T15:13:03.881-0400\timported 5029 documents\n",
    "kiet@student-VirtualBox:~/cisc_525/cisc-525-util/data/airline$ mongoimport --db airline --collection carriers --type csv --headerline --file ./carriers.csv\n",
    "2020-04-11T15:13:03.889-0400\tconnected to: localhost\n",
    "2020-04-11T15:13:03.906-0400\timported 1491 documents\n",
    "kiet@student-VirtualBox:~/cisc_525/cisc-525-util/data/airline$ mongoimport --db airline --collection airports --type csv --headerline --file ./airports.csv\n",
    "2020-04-11T15:48:34.888-0400\tconnected to: localhost\n",
    "2020-04-11T15:48:34.931-0400\timported 3376 documents\n",
    "```\n",
    "Ignore the error message on extraneous column for now. \n",
    "\n",
    "Verify that you import your data correct as follows:"
   ]
  },
  {
   "cell_type": "markdown",
   "metadata": {},
   "source": [
    "## Verify imported data"
   ]
  },
  {
   "cell_type": "code",
   "execution_count": 3,
   "metadata": {},
   "outputs": [
    {
     "name": "stdout",
     "output_type": "stream",
     "text": [
      "5029 plane types\n",
      "1491 carriers\n",
      "3376 airports\n"
     ]
    }
   ],
   "source": [
    "# Verify the counts ...\n",
    "print(airline.planes.find().collection.estimated_document_count(), 'plane types')\n",
    "print(airline.carriers.find().collection.estimated_document_count(), 'carriers')\n",
    "print(airline.airports.find().collection.estimated_document_count(), 'airports')"
   ]
  },
  {
   "cell_type": "markdown",
   "metadata": {},
   "source": [
    "## What are the attributes/fields for the airports, carriers, and planes collections?\n",
    "### Plane data type:\n",
    "- tailnum\n",
    "- type\n",
    "- manufacturer\n",
    "- issue_date\n",
    "- model\n",
    "- status\n",
    "- aircraft_type\n",
    "- engine_type\n",
    "- year\n",
    "\n",
    "### Carrier:\n",
    "- Code\n",
    "- Description\n",
    "\n",
    "### Airport:\n",
    "- iata\n",
    "- airport\n",
    "- city\n",
    "- state\n",
    "- country\n",
    "- lat\n",
    "- long"
   ]
  },
  {
   "cell_type": "code",
   "execution_count": 4,
   "metadata": {},
   "outputs": [
    {
     "data": {
      "text/plain": [
       "{'_id': ObjectId('5f2b7f06cfdc270c731a1912'),\n",
       " 'tailnum': 'N11109',\n",
       " 'type': 'Corporation',\n",
       " 'manufacturer': 'EMBRAER',\n",
       " 'issue_date': '06/25/2003',\n",
       " 'model': 'EMB-145XR',\n",
       " 'status': 'Valid',\n",
       " 'aircraft_type': 'Fixed Wing Multi-Engine',\n",
       " 'engine_type': 'Turbo-Fan',\n",
       " 'year': 2002}"
      ]
     },
     "execution_count": 4,
     "metadata": {},
     "output_type": "execute_result"
    }
   ],
   "source": [
    "airline.planes.find()[50]"
   ]
  },
  {
   "cell_type": "code",
   "execution_count": 5,
   "metadata": {},
   "outputs": [
    {
     "data": {
      "text/plain": [
       "{'_id': ObjectId('5f2b7f1ecfdc270c731a2c92'),\n",
       " 'Code': '02Q',\n",
       " 'Description': 'Titan Airways'}"
      ]
     },
     "execution_count": 5,
     "metadata": {},
     "output_type": "execute_result"
    }
   ],
   "source": [
    "airline.carriers.find()[0]"
   ]
  },
  {
   "cell_type": "code",
   "execution_count": 6,
   "metadata": {},
   "outputs": [
    {
     "data": {
      "text/plain": [
       "{'_id': ObjectId('5f2b7f2acfdc270c731a326b'),\n",
       " 'iata': '00M',\n",
       " 'airport': 'Thigpen ',\n",
       " 'city': 'Bay Springs',\n",
       " 'state': 'MS',\n",
       " 'country': 'USA',\n",
       " 'lat': 31.95376472,\n",
       " 'long': -89.23450472}"
      ]
     },
     "execution_count": 6,
     "metadata": {},
     "output_type": "execute_result"
    }
   ],
   "source": [
    "airline.airports.find()[0]"
   ]
  },
  {
   "cell_type": "markdown",
   "metadata": {},
   "source": [
    "## How many countries are in the airports collection\n",
    "Attribute `country` "
   ]
  },
  {
   "cell_type": "code",
   "execution_count": 7,
   "metadata": {},
   "outputs": [
    {
     "name": "stdout",
     "output_type": "stream",
     "text": [
      "5 distinct countries\n"
     ]
    }
   ],
   "source": [
    "\n",
    "airports = airline.airports.distinct('country')\n",
    "print(len(airports), 'distinct countries')\n",
    "# for airport in airports:\n",
    "#     print(airport)"
   ]
  },
  {
   "cell_type": "markdown",
   "metadata": {},
   "source": [
    "## How many plane manufacters are in the planes collection?\n",
    "Attribute `manufacturer`"
   ]
  },
  {
   "cell_type": "code",
   "execution_count": 8,
   "metadata": {},
   "outputs": [
    {
     "name": "stdout",
     "output_type": "stream",
     "text": [
      "39 manufacturers of airplanes\n"
     ]
    }
   ],
   "source": [
    "manufacturers = airline.planes.distinct('manufacturer')\n",
    "print(len(manufacturers), 'manufacturers of airplanes')\n",
    "# manufacturers\n",
    "# for manufacturer in manufacturers:\n",
    "#     print(manufacturer)"
   ]
  },
  {
   "cell_type": "markdown",
   "metadata": {},
   "source": [
    "## How many states are in the airports collections\n",
    "Attribute `state`"
   ]
  },
  {
   "cell_type": "code",
   "execution_count": 9,
   "metadata": {},
   "outputs": [
    {
     "name": "stdout",
     "output_type": "stream",
     "text": [
      "57 states and territorries\n"
     ]
    }
   ],
   "source": [
    "\n",
    "states_and_territorries = airline.airports.distinct('state')\n",
    "print(len(states_and_territorries), 'states and territorries')\n",
    "# for state in states_and_territorries:\n",
    "#     print(state)\n"
   ]
  },
  {
   "cell_type": "markdown",
   "metadata": {},
   "source": [
    "## How many airports are in the state of HI?"
   ]
  },
  {
   "cell_type": "code",
   "execution_count": 10,
   "metadata": {},
   "outputs": [
    {
     "name": "stdout",
     "output_type": "stream",
     "text": [
      "** 16 airports in the State of Hawaii\n"
     ]
    }
   ],
   "source": [
    "hi_airports = list(airline.airports.find({'state':'HI'}))\n",
    "# for hi_airport in hi_airports:\n",
    "#     print(hi_airport['airport'])\n",
    "print('**', len(hi_airports), 'airports in the State of Hawaii')    "
   ]
  },
  {
   "cell_type": "markdown",
   "metadata": {},
   "source": [
    "## Assignment\n",
    "Answer the following questions:\n",
    "\n",
    "1. How many plane types (use `type`) are there?\n",
    "2. How many planes `BOEING` made over the years?\n",
    "3. How many aircraft types (use `aircraft_type`) are there?\n",
    "4. How many types of planes `CESSNA` (use `manufacturer` and `aircaft_type`, made over the years?\n",
    "5. List aircraft types made by each manufacturer\n",
    "6. List number of planes make by each manufacturer\n",
    "7. Which manufacturer makes the `least` planes?\n",
    "8. Which manufacturer makes the `most` planes?\n",
    "9. Which state has the `most` airports?\n",
    "10. Which state has the `least` airports?\n",
    "11. Which state has the `second` largest number of airports?\n",
    "12. List all the years in the `planes` collection. Exclude (0 and 'None')\n",
    "13. Which year produced the `most` planes?\n",
    "14. Which year produced the `least` planes?\n",
    "15. List number of planes by aircraft types\n",
    "16. List engine types made by each manufacturer\n",
    "17. List planes made by aircraft types\n",
    "18. List planes made by engine type"
   ]
  },
  {
   "cell_type": "markdown",
   "metadata": {},
   "source": [
    "1. How many plane types (use type) are there?"
   ]
  },
  {
   "cell_type": "code",
   "execution_count": 32,
   "metadata": {},
   "outputs": [
    {
     "name": "stdout",
     "output_type": "stream",
     "text": [
      "5 plane types\n"
     ]
    }
   ],
   "source": [
    "types = airline.planes.distinct('type')\n",
    "print(len(types),'plane types')"
   ]
  },
  {
   "cell_type": "markdown",
   "metadata": {},
   "source": [
    "2. How many planes BOEING made over the years?"
   ]
  },
  {
   "cell_type": "code",
   "execution_count": 33,
   "metadata": {},
   "outputs": [
    {
     "name": "stdout",
     "output_type": "stream",
     "text": [
      "** 2061 planes Boeing made over the years\n"
     ]
    }
   ],
   "source": [
    "planes = list(airline.planes.find({'manufacturer': 'BOEING'}))\n",
    "print('**', len(planes), 'planes Boeing made over the years')"
   ]
  },
  {
   "cell_type": "markdown",
   "metadata": {},
   "source": [
    "3. How many aircraft types (use aircraft_type) are there?"
   ]
  },
  {
   "cell_type": "code",
   "execution_count": 34,
   "metadata": {},
   "outputs": [
    {
     "name": "stdout",
     "output_type": "stream",
     "text": [
      "4 NUmber of aircraft type\n"
     ]
    }
   ],
   "source": [
    "aircraft_types = airline.planes.distinct('aircraft_type')\n",
    "print(len(aircraft_types), 'NUmber of aircraft type')"
   ]
  },
  {
   "cell_type": "markdown",
   "metadata": {},
   "source": [
    "4. How many types of planes CESSNA (use manufacturer and aircaft_type, made over the years?"
   ]
  },
  {
   "cell_type": "code",
   "execution_count": 35,
   "metadata": {},
   "outputs": [
    {
     "name": "stdout",
     "output_type": "stream",
     "text": [
      "12 types of planes made by CESSNA\n"
     ]
    }
   ],
   "source": [
    "CESSNA = list(airline.planes.find({'manufacturer':'CESSNA'},\"aircraft_type\"))\n",
    "print( len(CESSNA), 'types of planes made by CESSNA')"
   ]
  },
  {
   "cell_type": "markdown",
   "metadata": {},
   "source": [
    "5. List aircraft types made by each manufacturer"
   ]
  },
  {
   "cell_type": "code",
   "execution_count": 36,
   "metadata": {},
   "outputs": [
    {
     "name": "stdout",
     "output_type": "stream",
     "text": [
      "{'manufacturer': 'AIRBUS INDUSTRIE', 'aircraft_type': 'Fixed Wing Multi-Engine'}\n",
      "{'manufacturer': 'BOEING', 'aircraft_type': 'Fixed Wing Multi-Engine'}\n",
      "{'manufacturer': 'BOEING', 'aircraft_type': 'Fixed Wing Multi-Engine'}\n",
      "{'manufacturer': 'AIRBUS INDUSTRIE', 'aircraft_type': 'Fixed Wing Multi-Engine'}\n",
      "{'manufacturer': 'AIRBUS INDUSTRIE', 'aircraft_type': 'Fixed Wing Multi-Engine'}\n",
      "{'manufacturer': 'EMBRAER', 'aircraft_type': 'Fixed Wing Multi-Engine'}\n",
      "{'manufacturer': 'BOEING', 'aircraft_type': 'Fixed Wing Multi-Engine'}\n",
      "{'manufacturer': 'EMBRAER', 'aircraft_type': 'Fixed Wing Multi-Engine'}\n",
      "{'manufacturer': 'BOEING', 'aircraft_type': 'Fixed Wing Multi-Engine'}\n",
      "{'manufacturer': 'AIRBUS INDUSTRIE', 'aircraft_type': 'Fixed Wing Multi-Engine'}\n"
     ]
    }
   ],
   "source": [
    "for aircrafts in airline.planes.find({\"aircraft_type\":{\"$in\":[\"Fixed Wing Multi-Engine\",\"Fixed Wing Single-Engine\",\"Rotorcraft\",\"Balloon\"]}},{\"aircraft_type\":1,\"manufacturer\":1,\"_id\":0}).limit(10):\n",
    "    print(aircrafts)"
   ]
  },
  {
   "cell_type": "markdown",
   "metadata": {},
   "source": [
    "6. List number of planes make by each manufacturer"
   ]
  },
  {
   "cell_type": "code",
   "execution_count": 37,
   "metadata": {},
   "outputs": [
    {
     "name": "stdout",
     "output_type": "stream",
     "text": [
      "{'_id': 'BELL', 'count': 1}\n",
      "{'_id': 'MCDONNELL DOUGLAS', 'count': 253}\n",
      "{'_id': 'AEROSPATIALE', 'count': 8}\n",
      "{'_id': 'MORSE GEORGE JR', 'count': 1}\n",
      "{'_id': 'AEROSPATIALE/ALENIA', 'count': 6}\n",
      "{'_id': 'WOBIG WAYNE R', 'count': 1}\n",
      "{'_id': 'DEHAVILLAND', 'count': 17}\n",
      "{'_id': 'BEECH', 'count': 5}\n",
      "{'_id': 'STINNETT RON', 'count': 1}\n",
      "{'_id': 'RAVEN', 'count': 3}\n",
      "{'_id': 'AIRBUS', 'count': 244}\n",
      "{'_id': 'FREDERICK CHRIS K', 'count': 1}\n",
      "{'_id': 'CANADAIR', 'count': 86}\n",
      "{'_id': 'BOEING OF CANADA LTD', 'count': 1}\n",
      "{'_id': 'MAULE', 'count': 2}\n",
      "{'_id': 'AGUSTA SPA', 'count': 1}\n",
      "{'_id': 'EMBRAER', 'count': 588}\n",
      "{'_id': 'AVIAT AIRCRAFT INC', 'count': 2}\n",
      "{'_id': 'BAUMAN RANDY', 'count': 1}\n",
      "{'_id': 'HELIO', 'count': 1}\n",
      "{'_id': '', 'count': 549}\n",
      "{'_id': 'BOMBARDIER INC', 'count': 547}\n",
      "{'_id': 'DOUGLAS', 'count': 36}\n",
      "{'_id': 'AIRBUS INDUSTRIE', 'count': 434}\n",
      "{'_id': 'DIAMOND AIRCRAFT IND INC', 'count': 1}\n",
      "{'_id': 'FRIEDEMANN JON', 'count': 1}\n",
      "{'_id': 'SAAB-SCANIA', 'count': 28}\n",
      "{'_id': 'MARZ BARRY', 'count': 1}\n",
      "{'_id': 'CESSNA', 'count': 12}\n",
      "{'_id': 'MCDONNELL DOUGLAS CORPORATION', 'count': 14}\n",
      "{'_id': 'SIKORSKY', 'count': 3}\n",
      "{'_id': 'MCDONNELL DOUGLAS AIRCRAFT CO', 'count': 105}\n",
      "{'_id': 'AERONCA', 'count': 1}\n",
      "{'_id': 'PAIR MIKE E', 'count': 1}\n",
      "{'_id': 'COBB INTL/DBA ROTORWAY INTL IN', 'count': 1}\n",
      "{'_id': 'LEBLANC GLENN T', 'count': 1}\n",
      "{'_id': 'AERO COMMANDER', 'count': 2}\n",
      "{'_id': 'BOEING', 'count': 2061}\n",
      "{'_id': 'GULFSTREAM AEROSPACE', 'count': 2}\n",
      "{'_id': 'PIPER', 'count': 6}\n"
     ]
    }
   ],
   "source": [
    "for planes_by_manu in airline.planes.aggregate([\n",
    "    {\n",
    "        \"$group\" :{\n",
    "            \"_id\" :{ \"$toUpper\" : \"$manufacturer\"},\n",
    "            \"count\" : {\"$sum\" : 1}\n",
    "        }\n",
    "    }\n",
    "]):\n",
    "    print(planes_by_manu)"
   ]
  },
  {
   "cell_type": "markdown",
   "metadata": {},
   "source": [
    "7. Which manufacturer makes the least planes?"
   ]
  },
  {
   "cell_type": "code",
   "execution_count": 39,
   "metadata": {},
   "outputs": [
    {
     "name": "stdout",
     "output_type": "stream",
     "text": [
      "{'_id': 'BELL', 'count': 1}\n"
     ]
    }
   ],
   "source": [
    "for least_planes_by_manufacturers in airline.planes.aggregate([\n",
    "    {\n",
    "        \"$group\":{\n",
    "        \"_id\": {\"$toUpper\":\"$manufacturer\"},\n",
    "        \"count\": {\"$sum\": 1},\n",
    "            \n",
    "    }} ,\n",
    "    {\n",
    "    \"$sort\": {\"count\": 1}\n",
    "    },\n",
    "    {\"$limit\":1}\n",
    "]):\n",
    "     print((least_planes_by_manufacturers))"
   ]
  },
  {
   "cell_type": "markdown",
   "metadata": {},
   "source": [
    "8. Which manufacturer makes the most planes?"
   ]
  },
  {
   "cell_type": "code",
   "execution_count": 40,
   "metadata": {},
   "outputs": [
    {
     "name": "stdout",
     "output_type": "stream",
     "text": [
      "{'_id': 'BOEING', 'count': 2061}\n"
     ]
    }
   ],
   "source": [
    "for least_planes_by_manu in airline.planes.aggregate([\n",
    "     {\n",
    "        \"$group\" :{\n",
    "            \"_id\" :{ \"$toUpper\" : \"$manufacturer\"},\n",
    "            \"count\" : {\"$sum\" : 1},\n",
    "        }\n",
    "    },\n",
    "    {\n",
    "        \"$sort\":{\"count\":-1}\n",
    "    },\n",
    "    {\"$limit\" :1}\n",
    "]):\n",
    "    print((least_planes_by_manu))"
   ]
  },
  {
   "cell_type": "markdown",
   "metadata": {},
   "source": [
    "9. Which state has the most airports?"
   ]
  },
  {
   "cell_type": "code",
   "execution_count": 16,
   "metadata": {},
   "outputs": [
    {
     "name": "stdout",
     "output_type": "stream",
     "text": [
      "{'_id': 'AK', 'count': 263}\n"
     ]
    }
   ],
   "source": [
    "for most_airport_state in airline.airports.aggregate([\n",
    "     {\n",
    "        \"$group\" :{\n",
    "            \"_id\" :{ \"$toUpper\" : \"$state\"},\n",
    "            \"count\" : {\"$sum\" : 1},\n",
    "        }\n",
    "    },\n",
    "    {\n",
    "        \"$sort\":{\"count\":-1}\n",
    "    },\n",
    "    {\"$limit\" :1}\n",
    "]):\n",
    "    print((most_airport_state))"
   ]
  },
  {
   "cell_type": "markdown",
   "metadata": {},
   "source": [
    "10. Which state has the least airports?"
   ]
  },
  {
   "cell_type": "code",
   "execution_count": 13,
   "metadata": {},
   "outputs": [
    {
     "name": "stdout",
     "output_type": "stream",
     "text": [
      "{'_id': 'DC', 'count': 1}\n"
     ]
    }
   ],
   "source": [
    "for least_airport_state in airline.airports.aggregate([\n",
    "     {\n",
    "        \"$group\" :{\n",
    "            \"_id\" :{ \"$toUpper\" : \"$state\"},\n",
    "            \"count\" : {\"$sum\" : 1},\n",
    "        }\n",
    "    },\n",
    "    {\n",
    "        \"$sort\":{\"count\":1}\n",
    "    },\n",
    "    {\"$limit\" :1}\n",
    "]):\n",
    "    print((least_airport_state))"
   ]
  },
  {
   "cell_type": "markdown",
   "metadata": {},
   "source": [
    "11. Which state has the second largest number of airports?"
   ]
  },
  {
   "cell_type": "code",
   "execution_count": 88,
   "metadata": {},
   "outputs": [
    {
     "name": "stdout",
     "output_type": "stream",
     "text": [
      "{'_id': 'TX', 'count': 209}\n"
     ]
    }
   ],
   "source": [
    "for second_airport_state in airline.airports.aggregate([\n",
    "     {\n",
    "        \"$group\" :{\n",
    "            \"_id\" :{ \"$toUpper\" : \"$state\"},\n",
    "            \"count\" : {\"$sum\" : 1},\n",
    "        }\n",
    "    },\n",
    "    {\n",
    "        \"$sort\":{\"count\":-1}\n",
    "    },\n",
    "    {\"$skip\" :1},{\"$limit\" :1}\n",
    "]):\n",
    "    print((second_airport_state))"
   ]
  },
  {
   "cell_type": "markdown",
   "metadata": {},
   "source": [
    "12. List all the years in the planes collection. Exclude (0 and 'None')"
   ]
  },
  {
   "cell_type": "code",
   "execution_count": 99,
   "metadata": {},
   "outputs": [
    {
     "ename": "OperationFailure",
     "evalue": "Unrecognized pipeline stage name: '$year', full error: {'ok': 0.0, 'errmsg': \"Unrecognized pipeline stage name: '$year'\", 'code': 40324, 'codeName': 'Location40324'}",
     "output_type": "error",
     "traceback": [
      "\u001b[0;31m---------------------------------------------------------------------------\u001b[0m",
      "\u001b[0;31mOperationFailure\u001b[0m                          Traceback (most recent call last)",
      "\u001b[0;32m<ipython-input-99-7e0224a72842>\u001b[0m in \u001b[0;36m<module>\u001b[0;34m\u001b[0m\n\u001b[1;32m      4\u001b[0m         \u001b[0;34m\"count\"\u001b[0m\u001b[0;34m:\u001b[0m \u001b[0;34m{\u001b[0m\u001b[0;34m\"$sum\"\u001b[0m\u001b[0;34m:\u001b[0m \u001b[0;36m1\u001b[0m\u001b[0;34m}\u001b[0m\u001b[0;34m\u001b[0m\u001b[0;34m\u001b[0m\u001b[0m\n\u001b[1;32m      5\u001b[0m     }},\n\u001b[0;32m----> 6\u001b[0;31m     \u001b[0;34m{\u001b[0m \u001b[0;34m\"$year\"\u001b[0m\u001b[0;34m:\u001b[0m \u001b[0;34m{\u001b[0m\u001b[0;34m\"$not\"\u001b[0m\u001b[0;34m:\u001b[0m \u001b[0;36m0\u001b[0m \u001b[0;34m}\u001b[0m \u001b[0;34m}\u001b[0m\u001b[0;34m\u001b[0m\u001b[0;34m\u001b[0m\u001b[0m\n\u001b[0m\u001b[1;32m      7\u001b[0m ]):\n\u001b[1;32m      8\u001b[0m      \u001b[0mprint\u001b[0m\u001b[0;34m(\u001b[0m\u001b[0;34m(\u001b[0m\u001b[0mmost_planes_per_year\u001b[0m\u001b[0;34m)\u001b[0m\u001b[0;34m)\u001b[0m\u001b[0;34m\u001b[0m\u001b[0;34m\u001b[0m\u001b[0m\n",
      "\u001b[0;32m~/.local/lib/python3.6/site-packages/pymongo/collection.py\u001b[0m in \u001b[0;36maggregate\u001b[0;34m(self, pipeline, session, **kwargs)\u001b[0m\n\u001b[1;32m   2456\u001b[0m                                    \u001b[0msession\u001b[0m\u001b[0;34m=\u001b[0m\u001b[0ms\u001b[0m\u001b[0;34m,\u001b[0m\u001b[0;34m\u001b[0m\u001b[0;34m\u001b[0m\u001b[0m\n\u001b[1;32m   2457\u001b[0m                                    \u001b[0mexplicit_session\u001b[0m\u001b[0;34m=\u001b[0m\u001b[0msession\u001b[0m \u001b[0;32mis\u001b[0m \u001b[0;32mnot\u001b[0m \u001b[0;32mNone\u001b[0m\u001b[0;34m,\u001b[0m\u001b[0;34m\u001b[0m\u001b[0;34m\u001b[0m\u001b[0m\n\u001b[0;32m-> 2458\u001b[0;31m                                    **kwargs)\n\u001b[0m\u001b[1;32m   2459\u001b[0m \u001b[0;34m\u001b[0m\u001b[0m\n\u001b[1;32m   2460\u001b[0m     \u001b[0;32mdef\u001b[0m \u001b[0maggregate_raw_batches\u001b[0m\u001b[0;34m(\u001b[0m\u001b[0mself\u001b[0m\u001b[0;34m,\u001b[0m \u001b[0mpipeline\u001b[0m\u001b[0;34m,\u001b[0m \u001b[0;34m**\u001b[0m\u001b[0mkwargs\u001b[0m\u001b[0;34m)\u001b[0m\u001b[0;34m:\u001b[0m\u001b[0;34m\u001b[0m\u001b[0;34m\u001b[0m\u001b[0m\n",
      "\u001b[0;32m~/.local/lib/python3.6/site-packages/pymongo/collection.py\u001b[0m in \u001b[0;36m_aggregate\u001b[0;34m(self, aggregation_command, pipeline, cursor_class, session, explicit_session, **kwargs)\u001b[0m\n\u001b[1;32m   2375\u001b[0m         return self.__database.client._retryable_read(\n\u001b[1;32m   2376\u001b[0m             \u001b[0mcmd\u001b[0m\u001b[0;34m.\u001b[0m\u001b[0mget_cursor\u001b[0m\u001b[0;34m,\u001b[0m \u001b[0mcmd\u001b[0m\u001b[0;34m.\u001b[0m\u001b[0mget_read_preference\u001b[0m\u001b[0;34m(\u001b[0m\u001b[0msession\u001b[0m\u001b[0;34m)\u001b[0m\u001b[0;34m,\u001b[0m \u001b[0msession\u001b[0m\u001b[0;34m,\u001b[0m\u001b[0;34m\u001b[0m\u001b[0;34m\u001b[0m\u001b[0m\n\u001b[0;32m-> 2377\u001b[0;31m             retryable=not cmd._performs_write)\n\u001b[0m\u001b[1;32m   2378\u001b[0m \u001b[0;34m\u001b[0m\u001b[0m\n\u001b[1;32m   2379\u001b[0m     \u001b[0;32mdef\u001b[0m \u001b[0maggregate\u001b[0m\u001b[0;34m(\u001b[0m\u001b[0mself\u001b[0m\u001b[0;34m,\u001b[0m \u001b[0mpipeline\u001b[0m\u001b[0;34m,\u001b[0m \u001b[0msession\u001b[0m\u001b[0;34m=\u001b[0m\u001b[0;32mNone\u001b[0m\u001b[0;34m,\u001b[0m \u001b[0;34m**\u001b[0m\u001b[0mkwargs\u001b[0m\u001b[0;34m)\u001b[0m\u001b[0;34m:\u001b[0m\u001b[0;34m\u001b[0m\u001b[0;34m\u001b[0m\u001b[0m\n",
      "\u001b[0;32m~/.local/lib/python3.6/site-packages/pymongo/mongo_client.py\u001b[0m in \u001b[0;36m_retryable_read\u001b[0;34m(self, func, read_pref, session, address, retryable, exhaust)\u001b[0m\n\u001b[1;32m   1469\u001b[0m                         \u001b[0;31m# not support retryable reads, raise the last error.\u001b[0m\u001b[0;34m\u001b[0m\u001b[0;34m\u001b[0m\u001b[0;34m\u001b[0m\u001b[0m\n\u001b[1;32m   1470\u001b[0m                         \u001b[0;32mraise\u001b[0m \u001b[0mlast_error\u001b[0m\u001b[0;34m\u001b[0m\u001b[0;34m\u001b[0m\u001b[0m\n\u001b[0;32m-> 1471\u001b[0;31m                     \u001b[0;32mreturn\u001b[0m \u001b[0mfunc\u001b[0m\u001b[0;34m(\u001b[0m\u001b[0msession\u001b[0m\u001b[0;34m,\u001b[0m \u001b[0mserver\u001b[0m\u001b[0;34m,\u001b[0m \u001b[0msock_info\u001b[0m\u001b[0;34m,\u001b[0m \u001b[0mslave_ok\u001b[0m\u001b[0;34m)\u001b[0m\u001b[0;34m\u001b[0m\u001b[0;34m\u001b[0m\u001b[0m\n\u001b[0m\u001b[1;32m   1472\u001b[0m             \u001b[0;32mexcept\u001b[0m \u001b[0mServerSelectionTimeoutError\u001b[0m\u001b[0;34m:\u001b[0m\u001b[0;34m\u001b[0m\u001b[0;34m\u001b[0m\u001b[0m\n\u001b[1;32m   1473\u001b[0m                 \u001b[0;32mif\u001b[0m \u001b[0mretrying\u001b[0m\u001b[0;34m:\u001b[0m\u001b[0;34m\u001b[0m\u001b[0;34m\u001b[0m\u001b[0m\n",
      "\u001b[0;32m~/.local/lib/python3.6/site-packages/pymongo/aggregation.py\u001b[0m in \u001b[0;36mget_cursor\u001b[0;34m(self, session, server, sock_info, slave_ok)\u001b[0m\n\u001b[1;32m    146\u001b[0m             \u001b[0msession\u001b[0m\u001b[0;34m=\u001b[0m\u001b[0msession\u001b[0m\u001b[0;34m,\u001b[0m\u001b[0;34m\u001b[0m\u001b[0;34m\u001b[0m\u001b[0m\n\u001b[1;32m    147\u001b[0m             \u001b[0mclient\u001b[0m\u001b[0;34m=\u001b[0m\u001b[0mself\u001b[0m\u001b[0;34m.\u001b[0m\u001b[0m_database\u001b[0m\u001b[0;34m.\u001b[0m\u001b[0mclient\u001b[0m\u001b[0;34m,\u001b[0m\u001b[0;34m\u001b[0m\u001b[0;34m\u001b[0m\u001b[0m\n\u001b[0;32m--> 148\u001b[0;31m             user_fields=self._user_fields)\n\u001b[0m\u001b[1;32m    149\u001b[0m \u001b[0;34m\u001b[0m\u001b[0m\n\u001b[1;32m    150\u001b[0m         \u001b[0mself\u001b[0m\u001b[0;34m.\u001b[0m\u001b[0m_process_result\u001b[0m\u001b[0;34m(\u001b[0m\u001b[0mresult\u001b[0m\u001b[0;34m,\u001b[0m \u001b[0msession\u001b[0m\u001b[0;34m,\u001b[0m \u001b[0mserver\u001b[0m\u001b[0;34m,\u001b[0m \u001b[0msock_info\u001b[0m\u001b[0;34m,\u001b[0m \u001b[0mslave_ok\u001b[0m\u001b[0;34m)\u001b[0m\u001b[0;34m\u001b[0m\u001b[0;34m\u001b[0m\u001b[0m\n",
      "\u001b[0;32m~/.local/lib/python3.6/site-packages/pymongo/pool.py\u001b[0m in \u001b[0;36mcommand\u001b[0;34m(self, dbname, spec, slave_ok, read_preference, codec_options, check, allowable_errors, check_keys, read_concern, write_concern, parse_write_concern_error, collation, session, client, retryable_write, publish_events, user_fields, exhaust_allowed)\u001b[0m\n\u001b[1;32m    692\u001b[0m                            \u001b[0munacknowledged\u001b[0m\u001b[0;34m=\u001b[0m\u001b[0munacknowledged\u001b[0m\u001b[0;34m,\u001b[0m\u001b[0;34m\u001b[0m\u001b[0;34m\u001b[0m\u001b[0m\n\u001b[1;32m    693\u001b[0m                            \u001b[0muser_fields\u001b[0m\u001b[0;34m=\u001b[0m\u001b[0muser_fields\u001b[0m\u001b[0;34m,\u001b[0m\u001b[0;34m\u001b[0m\u001b[0;34m\u001b[0m\u001b[0m\n\u001b[0;32m--> 694\u001b[0;31m                            exhaust_allowed=exhaust_allowed)\n\u001b[0m\u001b[1;32m    695\u001b[0m         \u001b[0;32mexcept\u001b[0m \u001b[0mOperationFailure\u001b[0m\u001b[0;34m:\u001b[0m\u001b[0;34m\u001b[0m\u001b[0;34m\u001b[0m\u001b[0m\n\u001b[1;32m    696\u001b[0m             \u001b[0;32mraise\u001b[0m\u001b[0;34m\u001b[0m\u001b[0;34m\u001b[0m\u001b[0m\n",
      "\u001b[0;32m~/.local/lib/python3.6/site-packages/pymongo/network.py\u001b[0m in \u001b[0;36mcommand\u001b[0;34m(sock_info, dbname, spec, slave_ok, is_mongos, read_preference, codec_options, session, client, check, allowable_errors, address, check_keys, listeners, max_bson_size, read_concern, parse_write_concern_error, collation, compression_ctx, use_op_msg, unacknowledged, user_fields, exhaust_allowed)\u001b[0m\n\u001b[1;32m    160\u001b[0m                     \u001b[0mresponse_doc\u001b[0m\u001b[0;34m,\u001b[0m \u001b[0msock_info\u001b[0m\u001b[0;34m.\u001b[0m\u001b[0mmax_wire_version\u001b[0m\u001b[0;34m,\u001b[0m \u001b[0;32mNone\u001b[0m\u001b[0;34m,\u001b[0m\u001b[0;34m\u001b[0m\u001b[0;34m\u001b[0m\u001b[0m\n\u001b[1;32m    161\u001b[0m                     \u001b[0mallowable_errors\u001b[0m\u001b[0;34m,\u001b[0m\u001b[0;34m\u001b[0m\u001b[0;34m\u001b[0m\u001b[0m\n\u001b[0;32m--> 162\u001b[0;31m                     parse_write_concern_error=parse_write_concern_error)\n\u001b[0m\u001b[1;32m    163\u001b[0m     \u001b[0;32mexcept\u001b[0m \u001b[0mException\u001b[0m \u001b[0;32mas\u001b[0m \u001b[0mexc\u001b[0m\u001b[0;34m:\u001b[0m\u001b[0;34m\u001b[0m\u001b[0;34m\u001b[0m\u001b[0m\n\u001b[1;32m    164\u001b[0m         \u001b[0;32mif\u001b[0m \u001b[0mpublish\u001b[0m\u001b[0;34m:\u001b[0m\u001b[0;34m\u001b[0m\u001b[0;34m\u001b[0m\u001b[0m\n",
      "\u001b[0;32m~/.local/lib/python3.6/site-packages/pymongo/helpers.py\u001b[0m in \u001b[0;36m_check_command_response\u001b[0;34m(response, max_wire_version, msg, allowable_errors, parse_write_concern_error)\u001b[0m\n\u001b[1;32m    166\u001b[0m             \u001b[0mmsg\u001b[0m \u001b[0;34m=\u001b[0m \u001b[0mmsg\u001b[0m \u001b[0;32mor\u001b[0m \u001b[0;34m\"%s\"\u001b[0m\u001b[0;34m\u001b[0m\u001b[0;34m\u001b[0m\u001b[0m\n\u001b[1;32m    167\u001b[0m             raise OperationFailure(msg % errmsg, code, response,\n\u001b[0;32m--> 168\u001b[0;31m                                    max_wire_version)\n\u001b[0m\u001b[1;32m    169\u001b[0m \u001b[0;34m\u001b[0m\u001b[0m\n\u001b[1;32m    170\u001b[0m \u001b[0;34m\u001b[0m\u001b[0m\n",
      "\u001b[0;31mOperationFailure\u001b[0m: Unrecognized pipeline stage name: '$year', full error: {'ok': 0.0, 'errmsg': \"Unrecognized pipeline stage name: '$year'\", 'code': 40324, 'codeName': 'Location40324'}"
     ]
    }
   ],
   "source": [
    "for most_planes_per_year in airline.planes.aggregate([\n",
    "    {\"$group\":\n",
    "     {\"_id\": {\"year\": \"$year\"},\n",
    "        \"count\": {\"$sum\": 1}\n",
    "    }},\n",
    "    { \"$year\": {\"$not\": 0 } }\n",
    "]):\n",
    "     print((most_planes_per_year))"
   ]
  },
  {
   "cell_type": "markdown",
   "metadata": {},
   "source": [
    "13. Which year produced the most planes?"
   ]
  },
  {
   "cell_type": "code",
   "execution_count": 78,
   "metadata": {},
   "outputs": [
    {
     "name": "stdout",
     "output_type": "stream",
     "text": [
      "{'_id': {'year': None}, 'count': 549}\n"
     ]
    }
   ],
   "source": [
    "for most_planes_per_year in airline.planes.aggregate([\n",
    "    {\"$group\":\n",
    "     {\"_id\": {\"year\": \"$year\"},\n",
    "        \"count\": {\"$sum\": 1}\n",
    "    }},\n",
    "    {\n",
    "    \"$sort\": {\"count\": -1}\n",
    "    },\n",
    "    {\"$limit\":1}\n",
    "]):\n",
    "     print((most_planes_per_year))"
   ]
  },
  {
   "cell_type": "markdown",
   "metadata": {},
   "source": [
    "14. Which year produced the least planes?"
   ]
  },
  {
   "cell_type": "code",
   "execution_count": 79,
   "metadata": {},
   "outputs": [
    {
     "name": "stdout",
     "output_type": "stream",
     "text": [
      "{'_id': {'year': 1964}, 'count': 1}\n"
     ]
    }
   ],
   "source": [
    "for least_planes_per_year in airline.planes.aggregate([\n",
    "    {\"$group\":\n",
    "     {\"_id\": {\"year\": \"$year\"},\n",
    "        \"count\": {\"$sum\": 1}\n",
    "    }},\n",
    "    {\n",
    "    \"$sort\": {\"count\": 1}\n",
    "    },\n",
    "    {\"$limit\":1}\n",
    "]):\n",
    "     print((least_planes_per_year))"
   ]
  },
  {
   "cell_type": "markdown",
   "metadata": {},
   "source": [
    "15. List number of planes by aircraft types"
   ]
  },
  {
   "cell_type": "code",
   "execution_count": 80,
   "metadata": {},
   "outputs": [
    {
     "name": "stdout",
     "output_type": "stream",
     "text": [
      "{'_id': 'FIXED WING MULTI-ENGINE', 'count': 4440}\n",
      "{'_id': 'FIXED WING SINGLE-ENGINE', 'count': 29}\n",
      "{'_id': 'ROTORCRAFT', 'count': 8}\n",
      "{'_id': 'BALLOON', 'count': 3}\n",
      "{'_id': '', 'count': 549}\n"
     ]
    }
   ],
   "source": [
    "for planes_by_aircraft_type in airline.planes.aggregate([\n",
    "    {\n",
    "        \"$group\" :{\n",
    "            \"_id\" :{ \"$toUpper\" : \"$aircraft_type\"},\n",
    "            \"count\" : {\"$sum\" : 1}\n",
    "        }\n",
    "    }\n",
    "]):\n",
    "    print(planes_by_aircraft_type)"
   ]
  },
  {
   "cell_type": "markdown",
   "metadata": {},
   "source": [
    "16. List engine types made by each manufacturer"
   ]
  },
  {
   "cell_type": "code",
   "execution_count": 49,
   "metadata": {},
   "outputs": [
    {
     "name": "stdout",
     "output_type": "stream",
     "text": [
      "{'manufacturer': 'AIRBUS INDUSTRIE', 'engine_type': 'Turbo-Fan'}\n",
      "{'manufacturer': 'BOEING', 'engine_type': 'Turbo-Jet'}\n",
      "{'manufacturer': 'BOEING', 'engine_type': 'Turbo-Fan'}\n",
      "{'manufacturer': 'AIRBUS INDUSTRIE', 'engine_type': 'Turbo-Fan'}\n",
      "{'manufacturer': 'AIRBUS INDUSTRIE', 'engine_type': 'Turbo-Fan'}\n",
      "{'manufacturer': 'EMBRAER', 'engine_type': 'Turbo-Fan'}\n",
      "{'manufacturer': 'BOEING', 'engine_type': 'Turbo-Jet'}\n",
      "{'manufacturer': 'EMBRAER', 'engine_type': 'Turbo-Fan'}\n",
      "{'manufacturer': 'BOEING', 'engine_type': 'Turbo-Fan'}\n",
      "{'manufacturer': 'AIRBUS INDUSTRIE', 'engine_type': 'Turbo-Fan'}\n"
     ]
    }
   ],
   "source": [
    "for planes in airline.planes.find({\"engine_type\":{\"$in\":[\"Turbo-Fan\",\"Turbo-Jet\",\"Reciprocating\",\"Turbo-Prop\",\"Turbo-Shaft\",\"4 Cycle\" ]}},{\"engine_type\":1,\"manufacturer\":1,\"_id\":0}).limit(10):\n",
    "    print(planes)"
   ]
  },
  {
   "cell_type": "markdown",
   "metadata": {},
   "source": [
    "17. List planes made by aircraft types"
   ]
  },
  {
   "cell_type": "code",
   "execution_count": 50,
   "metadata": {},
   "outputs": [
    {
     "name": "stdout",
     "output_type": "stream",
     "text": [
      "{'_id': 'FIXED WING MULTI-ENGINE'}\n",
      "{'_id': 'FIXED WING SINGLE-ENGINE'}\n",
      "{'_id': 'ROTORCRAFT'}\n",
      "{'_id': 'BALLOON'}\n",
      "{'_id': ''}\n"
     ]
    }
   ],
   "source": [
    "for planes_by_aircraft_type in airline.planes.aggregate([\n",
    "    {\"$group\":{\n",
    "        \"_id\": {\"$toUpper\": \"$aircraft_type\"},\n",
    "       \n",
    "    }}   \n",
    "]):\n",
    "     print((planes_by_aircraft_type))"
   ]
  },
  {
   "cell_type": "markdown",
   "metadata": {},
   "source": [
    "18. List planes made by engine type"
   ]
  },
  {
   "cell_type": "code",
   "execution_count": 51,
   "metadata": {},
   "outputs": [
    {
     "name": "stdout",
     "output_type": "stream",
     "text": [
      "{'_id': 'NONE'}\n",
      "{'_id': 'TURBO-PROP'}\n",
      "{'_id': 'RECIPROCATING'}\n",
      "{'_id': 'TURBO-SHAFT'}\n",
      "{'_id': 'TURBO-FAN'}\n",
      "{'_id': ''}\n",
      "{'_id': '4 CYCLE'}\n",
      "{'_id': 'TURBO-JET'}\n"
     ]
    }
   ],
   "source": [
    "for planes_by_engine_type in airline.planes.aggregate([\n",
    "    {\"$group\":{\n",
    "        \"_id\": {\"$toUpper\": \"$engine_type\"},\n",
    "       \n",
    "    }}   \n",
    "]):\n",
    "     print((planes_by_engine_type))"
   ]
  },
  {
   "cell_type": "code",
   "execution_count": null,
   "metadata": {},
   "outputs": [],
   "source": []
  }
 ],
 "metadata": {
  "kernelspec": {
   "display_name": "Python 3",
   "language": "python",
   "name": "python3"
  },
  "language_info": {
   "codemirror_mode": {
    "name": "ipython",
    "version": 3
   },
   "file_extension": ".py",
   "mimetype": "text/x-python",
   "name": "python",
   "nbconvert_exporter": "python",
   "pygments_lexer": "ipython3",
   "version": "3.6.9"
  }
 },
 "nbformat": 4,
 "nbformat_minor": 4
}
